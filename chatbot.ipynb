{
 "cells": [
  {
   "cell_type": "code",
   "execution_count": 31,
   "id": "e09e0d16-d277-4274-b44e-6e227a2ceff5",
   "metadata": {},
   "outputs": [],
   "source": [
    "data=pd.read_csv(\"hukuki_chatbot_dataset.csv\")"
   ]
  },
  {
   "cell_type": "code",
   "execution_count": 37,
   "id": "a815c7eb-a179-460b-8462-48bc7242374b",
   "metadata": {},
   "outputs": [
    {
     "data": {
      "text/html": [
       "<div>\n",
       "<style scoped>\n",
       "    .dataframe tbody tr th:only-of-type {\n",
       "        vertical-align: middle;\n",
       "    }\n",
       "\n",
       "    .dataframe tbody tr th {\n",
       "        vertical-align: top;\n",
       "    }\n",
       "\n",
       "    .dataframe thead th {\n",
       "        text-align: right;\n",
       "    }\n",
       "</style>\n",
       "<table border=\"1\" class=\"dataframe\">\n",
       "  <thead>\n",
       "    <tr style=\"text-align: right;\">\n",
       "      <th></th>\n",
       "      <th>intent</th>\n",
       "      <th>text</th>\n",
       "      <th>response</th>\n",
       "    </tr>\n",
       "  </thead>\n",
       "  <tbody>\n",
       "    <tr>\n",
       "      <th>0</th>\n",
       "      <td>selamlama</td>\n",
       "      <td>Merhaba</td>\n",
       "      <td>Merhaba, ben Hukuki Yardım Botu. Size nasıl ya...</td>\n",
       "    </tr>\n",
       "    <tr>\n",
       "      <th>1</th>\n",
       "      <td>selamlama</td>\n",
       "      <td>Selam, kolay gelsin</td>\n",
       "      <td>Merhaba, ben Hukuki Yardım Botu. Size nasıl ya...</td>\n",
       "    </tr>\n",
       "    <tr>\n",
       "      <th>2</th>\n",
       "      <td>depozito_iadesi</td>\n",
       "      <td>Ev sahibi depozitomu geri vermiyor, ne yapabil...</td>\n",
       "      <td>Türk Borçlar Kanunu’na göre kiracı konuttan çı...</td>\n",
       "    </tr>\n",
       "    <tr>\n",
       "      <th>3</th>\n",
       "      <td>depozito_iadesi</td>\n",
       "      <td>Kira depozitosu iade süresi ne kadar?</td>\n",
       "      <td>Türk Borçlar Kanunu’na göre kiracı konuttan çı...</td>\n",
       "    </tr>\n",
       "    <tr>\n",
       "      <th>4</th>\n",
       "      <td>isten_cikarma</td>\n",
       "      <td>Patronum beni işten çıkardı, tazminat alabilir...</td>\n",
       "      <td>4857 sayılı İş Kanunu’na göre, 1 yılı geçen ça...</td>\n",
       "    </tr>\n",
       "  </tbody>\n",
       "</table>\n",
       "</div>"
      ],
      "text/plain": [
       "            intent                                               text  \\\n",
       "0        selamlama                                            Merhaba   \n",
       "1        selamlama                                Selam, kolay gelsin   \n",
       "2  depozito_iadesi  Ev sahibi depozitomu geri vermiyor, ne yapabil...   \n",
       "3  depozito_iadesi              Kira depozitosu iade süresi ne kadar?   \n",
       "4    isten_cikarma  Patronum beni işten çıkardı, tazminat alabilir...   \n",
       "\n",
       "                                            response  \n",
       "0  Merhaba, ben Hukuki Yardım Botu. Size nasıl ya...  \n",
       "1  Merhaba, ben Hukuki Yardım Botu. Size nasıl ya...  \n",
       "2  Türk Borçlar Kanunu’na göre kiracı konuttan çı...  \n",
       "3  Türk Borçlar Kanunu’na göre kiracı konuttan çı...  \n",
       "4  4857 sayılı İş Kanunu’na göre, 1 yılı geçen ça...  "
      ]
     },
     "execution_count": 37,
     "metadata": {},
     "output_type": "execute_result"
    }
   ],
   "source": [
    "data.head()"
   ]
  },
  {
   "cell_type": "code",
   "execution_count": 43,
   "id": "9542ccc0-a752-463b-9293-0372d2865e82",
   "metadata": {},
   "outputs": [
    {
     "name": "stdin",
     "output_type": "stream",
     "text": [
      "Sen:  merhaba\n"
     ]
    },
    {
     "name": "stdout",
     "output_type": "stream",
     "text": [
      "Bot: Merhaba, ben Hukuki Yardım Botu. Size nasıl yardımcı olabilirim?\n"
     ]
    },
    {
     "name": "stdin",
     "output_type": "stream",
     "text": [
      "Sen:  boşanma davam var sence ne kadar sürer\n"
     ]
    },
    {
     "name": "stdout",
     "output_type": "stream",
     "text": [
      "Bot: Boşanma davalarının süresi, davanın türüne ve yoğunluğuna göre değişir:\n",
      "Anlaşmalı Boşanma Davaları: Genellikle tek celsede sonuçlanır ve birkaç hafta ile birkaç ay arasında sürebilir (mahkemelerin yoğunluğuna bağlı olarak).\n",
      "Çekişmeli Boşanma Davaları: Tanık dinleme, bilirkişi incelemesi, delil toplama gibi süreçler nedeniyle daha uzun sürer. Ortalama 1 ila 3 yıl arasında değişebilir, istinaf ve temyiz süreçleriyle bu süre daha da uzayabilir.\n",
      "Kaynak: Türk Hukuk Sisteminin genel işleyişi ve mahkeme istatistikleri (Kanunda dava sürelerine ilişkin kesin bir madde bulunmamaktadır).\n",
      "\n"
     ]
    },
    {
     "name": "stdin",
     "output_type": "stream",
     "text": [
      "Sen:  çık\n"
     ]
    },
    {
     "name": "stdout",
     "output_type": "stream",
     "text": [
      "Bot: Görüşmek üzere!\n"
     ]
    }
   ],
   "source": [
    "import pandas as pd\n",
    "from sklearn.feature_extraction.text import TfidfVectorizer\n",
    "from sklearn.metrics.pairwise import cosine_similarity\n",
    "\n",
    "df = pd.DataFrame(data)\n",
    "\n",
    "\n",
    "vectorizer = TfidfVectorizer()\n",
    "X = vectorizer.fit_transform(df[\"text\"])\n",
    "\n",
    "def chatbot_response(user_input):\n",
    "    \n",
    "    user_vec = vectorizer.transform([user_input])\n",
    "    \n",
    "    \n",
    "    similarities = cosine_similarity(user_vec, X).flatten()\n",
    "    \n",
    "    \n",
    "    idx = similarities.argmax()\n",
    "    return df[\"response\"].iloc[idx]\n",
    "\n",
    "\n",
    "while True:\n",
    "    user_input = input(\"Sen: \")\n",
    "    if user_input.lower() in [\"çık\", \"exit\", \"quit\"]:\n",
    "        print(\"Bot: Görüşmek üzere!\")\n",
    "        break\n",
    "    answer = chatbot_response(user_input)\n",
    "    print(\"Bot:\", answer)\n"
   ]
  },
  {
   "cell_type": "code",
   "execution_count": null,
   "id": "0e3ad3a8-4ff0-4165-b980-bbb41e75100b",
   "metadata": {},
   "outputs": [],
   "source": []
  }
 ],
 "metadata": {
  "kernelspec": {
   "display_name": "Python 3 (ipykernel)",
   "language": "python",
   "name": "python3"
  },
  "language_info": {
   "codemirror_mode": {
    "name": "ipython",
    "version": 3
   },
   "file_extension": ".py",
   "mimetype": "text/x-python",
   "name": "python",
   "nbconvert_exporter": "python",
   "pygments_lexer": "ipython3",
   "version": "3.12.4"
  }
 },
 "nbformat": 4,
 "nbformat_minor": 5
}

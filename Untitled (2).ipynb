{
 "cells": [
  {
   "cell_type": "code",
   "execution_count": null,
   "id": "0edbf09f-825c-458d-8483-fe6f3d227007",
   "metadata": {},
   "outputs": [],
   "source": [
    "pip install sentence-transformers"
   ]
  },
  {
   "cell_type": "code",
   "execution_count": null,
   "id": "e8762225-d43e-4897-9baf-e2cf81f44f2a",
   "metadata": {},
   "outputs": [],
   "source": [
    "import pandas as pd\n",
    "import numpy as np\n",
    "import re\n",
    "import string\n",
    "from sklearn.feature_extraction.text import TfidfVectorizer\n",
    "from sklearn.metrics.pairwise import cosine_similarity\n",
    "from sentence_transformers import SentenceTransformer, util\n",
    "import torch\n",
    "import ipywidgets as widgets\n",
    "from IPython.display import display\n",
    "\n",
    "\n",
    "file = \"hukuki_chatbot_dataset.csv\"\n",
    "\n",
    "\n",
    "df = pd.read_csv(file)\n",
    "df.head()\n"
   ]
  },
  {
   "cell_type": "code",
   "execution_count": null,
   "id": "3a62a9d7-9881-496a-b928-f892930a45cd",
   "metadata": {},
   "outputs": [],
   "source": [
    "def clean_text(text):\n",
    "    if pd.isna(text):\n",
    "        text = \"\"\n",
    "    text = str(text).lower()\n",
    "    text = re.sub(f\"[{re.escape(string.punctuation)}]\", \"\", text)\n",
    "    text = re.sub(r\"\\s+\", \" \", text).strip()\n",
    "    return text\n",
    "\n",
    "\n",
    "df['clean_question'] = df['text'].apply(clean_text)\n",
    "df['clean_response'] = df['response'].apply(clean_text)\n",
    "\n",
    "df[['text', 'clean_question', 'response', 'clean_response']].head()\n"
   ]
  },
  {
   "cell_type": "code",
   "execution_count": null,
   "id": "b005f7df-a267-4c3e-bb32-cca0ff85e704",
   "metadata": {},
   "outputs": [],
   "source": [
    "\n",
    "vectorizer = TfidfVectorizer()\n",
    "tfidf_matrix = vectorizer.fit_transform(df['clean_question'])\n",
    "print(\"TF-IDF matris boyutu:\", tfidf_matrix.shape)\n",
    "\n",
    "\n",
    "model = SentenceTransformer('all-MiniLM-L6-v2')\n",
    "question_embeddings = model.encode(df['text'].tolist(), convert_to_tensor=True)\n"
   ]
  },
  {
   "cell_type": "code",
   "execution_count": null,
   "id": "64740963-b5d5-43cd-8732-7ac9249089ae",
   "metadata": {},
   "outputs": [],
   "source": [
    "def get_response_combined(user_input, tfidf_weight=0.5, bert_weight=0.5, threshold=0.5):\n",
    "    cleaned_input = clean_text(user_input)\n",
    "    \n",
    "    \n",
    "    user_vec = vectorizer.transform([cleaned_input])\n",
    "    tfidf_sim = cosine_similarity(user_vec, tfidf_matrix)[0]\n",
    "    tfidf_sim_norm = tfidf_sim / (tfidf_sim.max() + 1e-8)  # normalize 0-1\n",
    "    \n",
    " \n",
    "    user_embedding = model.encode(user_input, convert_to_tensor=True)\n",
    "    bert_sim = util.cos_sim(user_embedding, question_embeddings)[0].cpu().numpy()\n",
    "    bert_sim_norm = bert_sim / (bert_sim.max() + 1e-8)  # normalize 0-1\n",
    "    \n",
    "    \n",
    "    combined_score = tfidf_weight * tfidf_sim_norm + bert_weight * bert_sim_norm\n",
    "    best_idx = np.argmax(combined_score)\n",
    "    \n",
    "    if combined_score[best_idx] < threshold:\n",
    "        return \"Bu konuda bilgim yok, başka bir soru sorun.\"\n",
    "    \n",
    "    return df.iloc[best_idx]['response']\n"
   ]
  },
  {
   "cell_type": "code",
   "execution_count": null,
   "id": "e932285d-e8d0-40ab-b339-7c842e63c59c",
   "metadata": {},
   "outputs": [],
   "source": [
    "input_box = widgets.Text(\n",
    "    value='',\n",
    "    placeholder='Nasıl yardımcı olabilirim...',\n",
    "    description='Siz:',\n",
    "    disabled=False\n",
    ")\n",
    "send_btn = widgets.Button(description=\"Gönder\")\n",
    "output_box = widgets.Output()\n",
    "\n",
    "def send_message(_=None):\n",
    "    user_question = input_box.value.strip()\n",
    "    if not user_question:\n",
    "        with output_box:\n",
    "            output_box.clear_output()\n",
    "            print(\"Lütfen bir soru yazın.\")\n",
    "        return\n",
    "\n",
    "    try:\n",
    "        response = get_response_combined(user_question)\n",
    "    except Exception as e:\n",
    "        response = f\"Hata: {e}\"\n",
    "\n",
    "    with output_box:\n",
    "        output_box.clear_output()\n",
    "        print(\"Chatbot:\", response)\n",
    "\n",
    "    input_box.value = \"\"\n",
    "\n",
    "send_btn.on_click(send_message)\n",
    "try:\n",
    "    input_box.on_submit(lambda _: send_message())\n",
    "except Exception:\n",
    "    pass\n",
    "\n",
    "display(widgets.HBox([input_box, send_btn]), output_box)\n"
   ]
  },
  {
   "cell_type": "code",
   "execution_count": null,
   "id": "733c80e5-568f-4560-bf3f-11c37d9a62b5",
   "metadata": {},
   "outputs": [],
   "source": []
  }
 ],
 "metadata": {
  "kernelspec": {
   "display_name": "Python 3 (ipykernel)",
   "language": "python",
   "name": "python3"
  },
  "language_info": {
   "codemirror_mode": {
    "name": "ipython",
    "version": 3
   },
   "file_extension": ".py",
   "mimetype": "text/x-python",
   "name": "python",
   "nbconvert_exporter": "python",
   "pygments_lexer": "ipython3",
   "version": "3.12.4"
  }
 },
 "nbformat": 4,
 "nbformat_minor": 5
}
